{
 "cells": [
  {
   "cell_type": "markdown",
   "id": "233a1ce3",
   "metadata": {},
   "source": [
    "### 1.\tWrite a Python Program to Find LCM?"
   ]
  },
  {
   "cell_type": "code",
   "execution_count": 45,
   "id": "d552f189",
   "metadata": {},
   "outputs": [
    {
     "name": "stdout",
     "output_type": "stream",
     "text": [
      "Enter a number 1 to find lcm : 2\n",
      "Enter a number 2 to find lcm : 3\n",
      "LCM of  2 and  3 is 6\n"
     ]
    }
   ],
   "source": [
    "n1=int(input(\"Enter a number 1 to find lcm : \"))\n",
    "n2=int(input(\"Enter a number 2 to find lcm : \"))\n",
    "k1=0\n",
    "k2=0\n",
    "k3=[]\n",
    "for i in range(1,30):\n",
    "    k1=n1*i\n",
    "    for j in range(1,30):\n",
    "        k2=n2*j\n",
    "        if(k1==k2):\n",
    "            k3.append(k1)\n",
    "            break\n",
    "        else:\n",
    "            continue\n",
    "print(\"LCM of \",n1,\"and \",n2,\"is\",min(k3))"
   ]
  },
  {
   "cell_type": "markdown",
   "id": "9697deda",
   "metadata": {},
   "source": [
    "### 2.\tWrite a Python Program to Find HCF?\n",
    "\n",
    "HCF or Highest Common Factor is the greatest number which divides each of the two or more numbers. HCF is also called the Greatest Common Measure (GCM) and Greatest Common Divisor(GCD).\n",
    "\n",
    "Here we have built-in function for hcf in math module"
   ]
  },
  {
   "cell_type": "code",
   "execution_count": 28,
   "id": "12f831ca",
   "metadata": {},
   "outputs": [
    {
     "name": "stdout",
     "output_type": "stream",
     "text": [
      "Enter 1st number12\n",
      "Enter 2nd number21\n",
      "HCF  of 12 and 21 is 3\n"
     ]
    }
   ],
   "source": [
    "import math as m\n",
    "n1=int(input(\"Enter 1st number\"))\n",
    "n2=int(input(\"Enter 2nd number\"))\n",
    "print(\"HCF  of\",n1,\"and\",n2,\"is\",m.gcd(n1,n2))"
   ]
  },
  {
   "cell_type": "markdown",
   "id": "80c9d8b7",
   "metadata": {},
   "source": [
    "### 3.\tWrite a Python Program to Convert Decimal to Binary, Octal and Hexadecimal?"
   ]
  },
  {
   "cell_type": "code",
   "execution_count": 37,
   "id": "8d83d247",
   "metadata": {
    "scrolled": true
   },
   "outputs": [
    {
     "name": "stdout",
     "output_type": "stream",
     "text": [
      "press\n",
      "1: Decimal to Binary,\n",
      "2: Decimal to octal\n",
      "3: Decimal to Hexadecimal\n",
      "Enter 2\n",
      "Enter number1\n",
      "0o1\n"
     ]
    }
   ],
   "source": [
    "n1=int(input(\"press\\n1: Decimal to Binary,\\n2: Decimal to octal\\n3: Decimal to Hexadecimal\\nEnter \"))\n",
    "if n1==1:\n",
    "    k=int(input(\"Enter number\"))\n",
    "    print(bin(k))\n",
    "elif n1==2:\n",
    "    k=int(input(\"Enter number\"))\n",
    "    print(oct(k))\n",
    "elif n1==3:\n",
    "    k=int(input(\"Enter number\"))\n",
    "    print(hex(k))"
   ]
  },
  {
   "cell_type": "markdown",
   "id": "a0721337",
   "metadata": {},
   "source": [
    "### 4.\tWrite a Python Program To Find ASCII value of a character?\n",
    "\n",
    "the ord () function works to obtain the ASCII value of a character. "
   ]
  },
  {
   "cell_type": "code",
   "execution_count": 42,
   "id": "a48d0e8a",
   "metadata": {},
   "outputs": [
    {
     "name": "stdout",
     "output_type": "stream",
     "text": [
      "Enter any characterr\n",
      "114\n"
     ]
    }
   ],
   "source": [
    "n=input(\"Enter any character\")\n",
    "print(ord(n))\n"
   ]
  },
  {
   "cell_type": "markdown",
   "id": "b51f6873",
   "metadata": {},
   "source": [
    "### 5.\tWrite a Python Program to Make a Simple Calculator with 4 basic mathematical operations?"
   ]
  },
  {
   "cell_type": "code",
   "execution_count": 43,
   "id": "45352ebc",
   "metadata": {},
   "outputs": [
    {
     "name": "stdout",
     "output_type": "stream",
     "text": [
      "Enter a number1\n",
      "select one operaot : +,-,/,* +\n",
      "Enter a number2\n",
      "3\n"
     ]
    }
   ],
   "source": [
    "n1=int(input(\"Enter a number\"))\n",
    "n=input(\"select one operaot : +,-,/,* \")\n",
    "n2=int(input(\"Enter a number\"))\n",
    "if n=='+':\n",
    "    print(n1+n2)\n",
    "elif n==\"-\":\n",
    "    print(n1-n2)\n",
    "elif n==\"/\":\n",
    "    print(n1/n2)\n",
    "elif n==\"*\":\n",
    "    print(n1*n2)\n",
    "else:\n",
    "    print(\"Invalid operator\")"
   ]
  }
 ],
 "metadata": {
  "kernelspec": {
   "display_name": "Python 3",
   "language": "python",
   "name": "python3"
  },
  "language_info": {
   "codemirror_mode": {
    "name": "ipython",
    "version": 3
   },
   "file_extension": ".py",
   "mimetype": "text/x-python",
   "name": "python",
   "nbconvert_exporter": "python",
   "pygments_lexer": "ipython3",
   "version": "3.8.8"
  }
 },
 "nbformat": 4,
 "nbformat_minor": 5
}
